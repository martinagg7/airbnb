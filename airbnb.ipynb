{
 "cells": [
  {
   "attachments": {},
   "cell_type": "markdown",
   "metadata": {},
   "source": [
    "## Requisitos obligatorios\n",
    "**Sin usar Pandas**:\n",
    "\n",
    "* Extraer del fichero de alojamientos una lista con todos los alojamientos, donde cada alojamiento sea un diccionario que contenga el identificador del     alojamiento, el identificador del anfitrión, el distrito, el precio y las plazas.\n",
    "* Crear una función que reciba la lista de alojamientos y devuelva el número de alojamientos en cada distrito.\n",
    "* Crear una función que reciba la lista de alojamientos y un número de ocupantes y devuelva la lista de alojamientos con un número de plazas mayor o igual que el número de ocupantes.\n",
    "* Crear una función que reciba la lista de alojamientos un distrito, y devuelva los 10 alojamientos más baratos del distrito.\n",
    "* Crear una función que reciba la lista de alojamientos y devuelva un diccionario con los anfitriones y el número de alojamientos que posee cada uno."
   ]
  },
  {
   "cell_type": "code",
   "execution_count": 105,
   "metadata": {},
   "outputs": [
    {
     "name": "stdout",
     "output_type": "stream",
     "text": [
      "id  listing_url\tscrape_id\tlast_scraped    name\tsummary\tspace\tdescription\texperiences_offered\tneighborhood_overview\tnotes\ttransit\taccess\tinteraction\thouse_rules\tthumbnail_url\tmedium_url\tpicture_url\txl_picture_url\thost_id\thost_url\thost_name\thost_since\thost_location\thost_about\thost_response_time\thost_response_rate\thost_acceptance_rate\thost_is_superhost\thost_thumbnail_url\thost_picture_url\thost_neighbourhood\thost_listings_count\thost_total_listings_count\thost_verifications\thost_has_profile_pic\thost_identity_verified\tstreet\tneighbourhood\tneighbourhood_cleansed\tneighbourhood_group_cleansed\tcity\tstate\tzipcode\tmarket\tsmart_location\tcountry_code\tcountry\tlatitude\tlongitude\tis_location_exact\tproperty_type\troom_type\taccommodates\tbathrooms\tbedrooms\tbeds\tbed_type\tamenities\tsquare_feet\tprice\tweekly_price\tmonthly_price\tsecurity_deposit\tcleaning_fee\tguests_included\textra_people\tminimum_nights\tmaximum_nights\tminimum_minimum_nights\tmaximum_minimum_nights\tminimum_maximum_nights\tmaximum_maximum_nights\tminimum_nights_avg_ntm\tmaximum_nights_avg_ntm\tcalendar_updated\thas_availability\tavailability_30\tavailability_60\tavailability_90\tavailability_365\tcalendar_last_scraped\tnumber_of_reviews\tnumber_of_reviews_ltm\tfirst_review\tlast_review\treview_scores_rating\treview_scores_accuracy\treview_scores_cleanliness\treview_scores_checkin\treview_scores_communication\treview_scores_location\treview_scores_value\trequires_license\tlicense\tjurisdiction_names\tinstant_bookable\tis_business_travel_ready\tcancellation_policy\trequire_guest_profile_picture\trequire_guest_phone_verification\tcalculated_host_listings_count\tcalculated_host_listings_count_entire_homes\tcalculated_host_listings_count_private_rooms\tcalculated_host_listings_count_shared_rooms\treviews_per_month\n",
      "\n"
     ]
    }
   ],
   "source": [
    "# Hago una funcion que lea la primera fila del archivo y lo guarden en una lista\n",
    "def leer_primera_linea(file):\n",
    "    lista = []\n",
    "    with open(file, 'r') as f:\n",
    "        first_line = f.readline()\n",
    "        lista.append(first_line)\n",
    "        for i in range(len(lista)):\n",
    "            print(lista[i])\n",
    "    \n",
    "\n",
    "\n",
    "leer_primera_linea('madrid-airbnb-listings-small.csv')"
   ]
  },
  {
   "cell_type": "code",
   "execution_count": null,
   "metadata": {},
   "outputs": [],
   "source": []
  },
  {
   "cell_type": "code",
   "execution_count": null,
   "metadata": {},
   "outputs": [],
   "source": []
  }
 ],
 "metadata": {
  "kernelspec": {
   "display_name": "Python 3",
   "language": "python",
   "name": "python3"
  },
  "language_info": {
   "codemirror_mode": {
    "name": "ipython",
    "version": 3
   },
   "file_extension": ".py",
   "mimetype": "text/x-python",
   "name": "python",
   "nbconvert_exporter": "python",
   "pygments_lexer": "ipython3",
   "version": "3.10.11"
  },
  "orig_nbformat": 4
 },
 "nbformat": 4,
 "nbformat_minor": 2
}
